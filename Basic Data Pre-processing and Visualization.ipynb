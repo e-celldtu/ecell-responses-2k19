{
 "cells": [
  {
   "cell_type": "markdown",
   "metadata": {},
   "source": [
    "# Anonymized Data From E-Cell DTU's 2019 Recruitment\n",
    "\n",
    "This notebook contains a very basic analysis of E-Cell DTU's data collected from the list of responses for their recruitment process."
   ]
  },
  {
   "cell_type": "markdown",
   "metadata": {},
   "source": [
    "## Basic Imports"
   ]
  },
  {
   "cell_type": "code",
   "execution_count": 1,
   "metadata": {
    "ExecuteTime": {
     "end_time": "2019-08-21T11:19:14.725508Z",
     "start_time": "2019-08-21T11:19:14.001127Z"
    }
   },
   "outputs": [],
   "source": [
    "import pandas as pd\n",
    "import numpy as np\n",
    "import matplotlib.pyplot as plt\n",
    "import seaborn as sns"
   ]
  },
  {
   "cell_type": "code",
   "execution_count": 2,
   "metadata": {
    "ExecuteTime": {
     "end_time": "2019-08-21T11:19:14.759460Z",
     "start_time": "2019-08-21T11:19:14.726505Z"
    }
   },
   "outputs": [],
   "source": [
    "df = pd.read_csv(\"e-cell-responses-data.csv\")"
   ]
  },
  {
   "cell_type": "markdown",
   "metadata": {},
   "source": [
    "## Inspecting and Cleaning the Data"
   ]
  },
  {
   "cell_type": "code",
   "execution_count": 3,
   "metadata": {
    "ExecuteTime": {
     "end_time": "2019-08-21T11:19:14.772469Z",
     "start_time": "2019-08-21T11:19:14.761452Z"
    }
   },
   "outputs": [
    {
     "data": {
      "text/html": [
       "<div>\n",
       "<style scoped>\n",
       "    .dataframe tbody tr th:only-of-type {\n",
       "        vertical-align: middle;\n",
       "    }\n",
       "\n",
       "    .dataframe tbody tr th {\n",
       "        vertical-align: top;\n",
       "    }\n",
       "\n",
       "    .dataframe thead th {\n",
       "        text-align: right;\n",
       "    }\n",
       "</style>\n",
       "<table border=\"1\" class=\"dataframe\">\n",
       "  <thead>\n",
       "    <tr style=\"text-align: right;\">\n",
       "      <th></th>\n",
       "      <th>Timestamp</th>\n",
       "      <th>Branch</th>\n",
       "      <th>Roll Number</th>\n",
       "    </tr>\n",
       "  </thead>\n",
       "  <tbody>\n",
       "    <tr>\n",
       "      <th>0</th>\n",
       "      <td>8/8/2019 12:25:59</td>\n",
       "      <td>option 1</td>\n",
       "      <td>2k19/a3</td>\n",
       "    </tr>\n",
       "    <tr>\n",
       "      <th>1</th>\n",
       "      <td>8/8/2019 12:26:53</td>\n",
       "      <td>ece</td>\n",
       "      <td>2k19/b7</td>\n",
       "    </tr>\n",
       "    <tr>\n",
       "      <th>2</th>\n",
       "      <td>8/8/2019 12:27:04</td>\n",
       "      <td>se</td>\n",
       "      <td>2k19/a4</td>\n",
       "    </tr>\n",
       "    <tr>\n",
       "      <th>3</th>\n",
       "      <td>8/8/2019 12:29:07</td>\n",
       "      <td>mathematics and computing</td>\n",
       "      <td>2k19/b6</td>\n",
       "    </tr>\n",
       "    <tr>\n",
       "      <th>4</th>\n",
       "      <td>8/8/2019 12:32:14</td>\n",
       "      <td>coe</td>\n",
       "      <td>2k19/a1</td>\n",
       "    </tr>\n",
       "    <tr>\n",
       "      <th>344</th>\n",
       "      <td>8/9/2019 11:44:00</td>\n",
       "      <td>pie</td>\n",
       "      <td>2k19/b11</td>\n",
       "    </tr>\n",
       "    <tr>\n",
       "      <th>345</th>\n",
       "      <td>8/9/2019 12:42:17</td>\n",
       "      <td>coe</td>\n",
       "      <td>2k19/b1</td>\n",
       "    </tr>\n",
       "    <tr>\n",
       "      <th>346</th>\n",
       "      <td>8/9/2019 14:25:57</td>\n",
       "      <td>electrical engineering (ee)</td>\n",
       "      <td>2k19/a8</td>\n",
       "    </tr>\n",
       "    <tr>\n",
       "      <th>347</th>\n",
       "      <td>8/9/2019 14:26:41</td>\n",
       "      <td>ee</td>\n",
       "      <td>2k19/a8</td>\n",
       "    </tr>\n",
       "    <tr>\n",
       "      <th>348</th>\n",
       "      <td>8/9/2019 16:05:40</td>\n",
       "      <td>me</td>\n",
       "      <td>2k19/me</td>\n",
       "    </tr>\n",
       "  </tbody>\n",
       "</table>\n",
       "</div>"
      ],
      "text/plain": [
       "             Timestamp                       Branch Roll Number\n",
       "0    8/8/2019 12:25:59                     option 1     2k19/a3\n",
       "1    8/8/2019 12:26:53                          ece     2k19/b7\n",
       "2    8/8/2019 12:27:04                           se     2k19/a4\n",
       "3    8/8/2019 12:29:07    mathematics and computing     2k19/b6\n",
       "4    8/8/2019 12:32:14                          coe     2k19/a1\n",
       "344  8/9/2019 11:44:00                          pie    2k19/b11\n",
       "345  8/9/2019 12:42:17                          coe     2k19/b1\n",
       "346  8/9/2019 14:25:57  electrical engineering (ee)     2k19/a8\n",
       "347  8/9/2019 14:26:41                           ee     2k19/a8\n",
       "348  8/9/2019 16:05:40                           me     2k19/me"
      ]
     },
     "execution_count": 3,
     "metadata": {},
     "output_type": "execute_result"
    }
   ],
   "source": [
    "pd.concat([df.head(), df.tail()])"
   ]
  },
  {
   "cell_type": "markdown",
   "metadata": {},
   "source": [
    "### Checking For Null Values"
   ]
  },
  {
   "cell_type": "code",
   "execution_count": 4,
   "metadata": {
    "ExecuteTime": {
     "end_time": "2019-08-21T11:19:14.779447Z",
     "start_time": "2019-08-21T11:19:14.774423Z"
    }
   },
   "outputs": [
    {
     "data": {
      "text/plain": [
       "Timestamp      False\n",
       "Branch         False\n",
       "Roll Number     True\n",
       "dtype: bool"
      ]
     },
     "execution_count": 4,
     "metadata": {},
     "output_type": "execute_result"
    }
   ],
   "source": [
    "df.isna().any()"
   ]
  },
  {
   "cell_type": "code",
   "execution_count": 5,
   "metadata": {
    "ExecuteTime": {
     "end_time": "2019-08-21T11:19:14.786429Z",
     "start_time": "2019-08-21T11:19:14.780407Z"
    }
   },
   "outputs": [],
   "source": [
    "df.dropna(inplace= True)"
   ]
  },
  {
   "cell_type": "markdown",
   "metadata": {},
   "source": [
    "### Cleaning Branch Names"
   ]
  },
  {
   "cell_type": "code",
   "execution_count": 6,
   "metadata": {
    "ExecuteTime": {
     "end_time": "2019-08-21T11:19:14.794011Z",
     "start_time": "2019-08-21T11:19:14.787390Z"
    }
   },
   "outputs": [
    {
     "data": {
      "text/plain": [
       "array(['option 1', 'ece', 'se', 'mathematics and computing', 'coe', 'ee',\n",
       "       'it', 'mce', 'ep', 'biotechnology', 'me', 'pie', 'ene',\n",
       "       'mechanical', 'bt (bio technology)', 'b.des', 'ce', 'bba', 'bt',\n",
       "       'pct', 'civil engineering (ce)', 'electrical', 'mam', 'cod',\n",
       "       'b. design', 'electrical engineering (ee)'], dtype=object)"
      ]
     },
     "execution_count": 6,
     "metadata": {},
     "output_type": "execute_result"
    }
   ],
   "source": [
    "df[\"Branch\"] = df[\"Branch\"].apply(lambda x: x.strip().lower())\n",
    "df[\"Branch\"].unique()"
   ]
  },
  {
   "cell_type": "code",
   "execution_count": 7,
   "metadata": {
    "ExecuteTime": {
     "end_time": "2019-08-21T11:19:14.799958Z",
     "start_time": "2019-08-21T11:19:14.795968Z"
    }
   },
   "outputs": [],
   "source": [
    "stream_mapping = {\n",
    "    \"option 1\": \"coe\",\n",
    "    \"mathematics and computing\": \"mce\",\n",
    "    \"biotechnology\": \"bt\",\n",
    "    \"mechanical\": \"me\",\n",
    "    \"bt (bio technology)\": \"bt\",\n",
    "    \"b.des\": \"b. des\",\n",
    "    \"civil engineering (ce)\": \"ce\",\n",
    "    \"electrical\": \"ee\",\n",
    "    \"cod\": \"coe\",\n",
    "    \"coe pronounce as ''koi''\": \"coe\",\n",
    "    \"b. design\": \"b. des\",\n",
    "    \"electrical engineering (ee)\": \"ee\"\n",
    "}"
   ]
  },
  {
   "cell_type": "code",
   "execution_count": 8,
   "metadata": {
    "ExecuteTime": {
     "end_time": "2019-08-21T11:19:14.810409Z",
     "start_time": "2019-08-21T11:19:14.801413Z"
    }
   },
   "outputs": [
    {
     "data": {
      "text/plain": [
       "array(['coe', 'ece', 'se', 'mce', 'ee', 'it', 'ep', 'bt', 'me', 'pie',\n",
       "       'ene', 'b. des', 'ce', 'bba', 'pct', 'mam'], dtype=object)"
      ]
     },
     "execution_count": 8,
     "metadata": {},
     "output_type": "execute_result"
    }
   ],
   "source": [
    "df[\"Branch\"] = df[\"Branch\"].replace(stream_mapping)\n",
    "df[\"Branch\"].unique()"
   ]
  },
  {
   "cell_type": "markdown",
   "metadata": {},
   "source": [
    "### Separating and Cleaning Roll Numbers\n",
    "\n",
    "The last identifier of the roll number has been removed."
   ]
  },
  {
   "cell_type": "code",
   "execution_count": 9,
   "metadata": {
    "ExecuteTime": {
     "end_time": "2019-08-21T11:19:14.815377Z",
     "start_time": "2019-08-21T11:19:14.811369Z"
    }
   },
   "outputs": [],
   "source": [
    "df[\"Roll Number\"] = df[\"Roll Number\"].apply(lambda x: x.lower().strip().lstrip(\"dtu/\"))\n",
    "t_r = df[\"Roll Number\"].apply(lambda x: x.split(\"/\"))"
   ]
  },
  {
   "cell_type": "code",
   "execution_count": 10,
   "metadata": {
    "ExecuteTime": {
     "end_time": "2019-08-21T11:19:14.825331Z",
     "start_time": "2019-08-21T11:19:14.816395Z"
    }
   },
   "outputs": [],
   "source": [
    "df.drop(index= t_r[t_r.apply(lambda x: len(x) != 2)].index, inplace= True)\n",
    "t_r.drop(index= t_r[t_r.apply(lambda x: len(x) != 2)].index, inplace= True)\n",
    "t_r = np.array(t_r.values.tolist())"
   ]
  },
  {
   "cell_type": "code",
   "execution_count": 11,
   "metadata": {
    "ExecuteTime": {
     "end_time": "2019-08-21T11:19:14.831470Z",
     "start_time": "2019-08-21T11:19:14.826331Z"
    }
   },
   "outputs": [],
   "source": [
    "df[\"Year\"] = t_r[:, 0]\n",
    "df[\"Batch\"] = t_r[:, 1]"
   ]
  },
  {
   "cell_type": "code",
   "execution_count": 12,
   "metadata": {
    "ExecuteTime": {
     "end_time": "2019-08-21T11:19:14.836481Z",
     "start_time": "2019-08-21T11:19:14.832471Z"
    }
   },
   "outputs": [],
   "source": [
    "def check_batch(x):\n",
    "    if x[1].isdigit():\n",
    "        return True\n",
    "    else:\n",
    "        return False"
   ]
  },
  {
   "cell_type": "code",
   "execution_count": 13,
   "metadata": {
    "ExecuteTime": {
     "end_time": "2019-08-21T11:19:14.848959Z",
     "start_time": "2019-08-21T11:19:14.837441Z"
    }
   },
   "outputs": [
    {
     "data": {
      "text/html": [
       "<div>\n",
       "<style scoped>\n",
       "    .dataframe tbody tr th:only-of-type {\n",
       "        vertical-align: middle;\n",
       "    }\n",
       "\n",
       "    .dataframe tbody tr th {\n",
       "        vertical-align: top;\n",
       "    }\n",
       "\n",
       "    .dataframe thead th {\n",
       "        text-align: right;\n",
       "    }\n",
       "</style>\n",
       "<table border=\"1\" class=\"dataframe\">\n",
       "  <thead>\n",
       "    <tr style=\"text-align: right;\">\n",
       "      <th></th>\n",
       "      <th>Timestamp</th>\n",
       "      <th>Branch</th>\n",
       "      <th>Roll Number</th>\n",
       "      <th>Year</th>\n",
       "      <th>Batch</th>\n",
       "    </tr>\n",
       "  </thead>\n",
       "  <tbody>\n",
       "    <tr>\n",
       "      <th>0</th>\n",
       "      <td>8/8/2019 12:25:59</td>\n",
       "      <td>coe</td>\n",
       "      <td>2k19/a3</td>\n",
       "      <td>2k19</td>\n",
       "      <td>a3</td>\n",
       "    </tr>\n",
       "    <tr>\n",
       "      <th>1</th>\n",
       "      <td>8/8/2019 12:26:53</td>\n",
       "      <td>ece</td>\n",
       "      <td>2k19/b7</td>\n",
       "      <td>2k19</td>\n",
       "      <td>b7</td>\n",
       "    </tr>\n",
       "    <tr>\n",
       "      <th>2</th>\n",
       "      <td>8/8/2019 12:27:04</td>\n",
       "      <td>se</td>\n",
       "      <td>2k19/a4</td>\n",
       "      <td>2k19</td>\n",
       "      <td>a4</td>\n",
       "    </tr>\n",
       "    <tr>\n",
       "      <th>3</th>\n",
       "      <td>8/8/2019 12:29:07</td>\n",
       "      <td>mce</td>\n",
       "      <td>2k19/b6</td>\n",
       "      <td>2k19</td>\n",
       "      <td>b6</td>\n",
       "    </tr>\n",
       "    <tr>\n",
       "      <th>4</th>\n",
       "      <td>8/8/2019 12:32:14</td>\n",
       "      <td>coe</td>\n",
       "      <td>2k19/a1</td>\n",
       "      <td>2k19</td>\n",
       "      <td>a1</td>\n",
       "    </tr>\n",
       "  </tbody>\n",
       "</table>\n",
       "</div>"
      ],
      "text/plain": [
       "           Timestamp Branch Roll Number  Year Batch\n",
       "0  8/8/2019 12:25:59    coe     2k19/a3  2k19    a3\n",
       "1  8/8/2019 12:26:53    ece     2k19/b7  2k19    b7\n",
       "2  8/8/2019 12:27:04     se     2k19/a4  2k19    a4\n",
       "3  8/8/2019 12:29:07    mce     2k19/b6  2k19    b6\n",
       "4  8/8/2019 12:32:14    coe     2k19/a1  2k19    a1"
      ]
     },
     "execution_count": 13,
     "metadata": {},
     "output_type": "execute_result"
    }
   ],
   "source": [
    "df = df[df[\"Batch\"].apply(check_batch)]\n",
    "df.head()"
   ]
  },
  {
   "cell_type": "code",
   "execution_count": 14,
   "metadata": {
    "ExecuteTime": {
     "end_time": "2019-08-21T11:19:14.854945Z",
     "start_time": "2019-08-21T11:19:14.849923Z"
    }
   },
   "outputs": [
    {
     "data": {
      "text/plain": [
       "array(['2k19', '2k10', '- 2k19', '2k19 '], dtype=object)"
      ]
     },
     "execution_count": 14,
     "metadata": {},
     "output_type": "execute_result"
    }
   ],
   "source": [
    "df.Year.unique()"
   ]
  },
  {
   "cell_type": "code",
   "execution_count": 15,
   "metadata": {
    "ExecuteTime": {
     "end_time": "2019-08-21T11:19:14.885475Z",
     "start_time": "2019-08-21T11:19:14.855906Z"
    }
   },
   "outputs": [],
   "source": [
    "df[\"Year\"] = '2k19'"
   ]
  },
  {
   "cell_type": "markdown",
   "metadata": {},
   "source": [
    "## Plotting basic bar charts"
   ]
  },
  {
   "cell_type": "code",
   "execution_count": 16,
   "metadata": {
    "ExecuteTime": {
     "end_time": "2019-08-21T11:19:15.159002Z",
     "start_time": "2019-08-21T11:19:14.886402Z"
    }
   },
   "outputs": [
    {
     "data": {
      "image/png": "[encoded data removed]",
      "text/plain": [
       "<Figure size 1080x360 with 1 Axes>"
      ]
     },
     "metadata": {
      "needs_background": "light"
     },
     "output_type": "display_data"
    }
   ],
   "source": [
    "a = df.Batch.value_counts()\n",
    "a = a.sort_values(ascending= False)\n",
    "plt.figure(figsize=(15, 5))\n",
    "sns.barplot(x= [x.upper() for x in a.index], y= a.values)\n",
    "plt.show()"
   ]
  },
  {
   "cell_type": "code",
   "execution_count": 17,
   "metadata": {
    "ExecuteTime": {
     "end_time": "2019-08-21T11:19:15.338241Z",
     "start_time": "2019-08-21T11:19:15.159999Z"
    }
   },
   "outputs": [
    {
     "data": {
      "image/png": "[encoded data removed]",
      "text/plain": [
       "<Figure size 1080x360 with 1 Axes>"
      ]
     },
     "metadata": {
      "needs_background": "light"
     },
     "output_type": "display_data"
    }
   ],
   "source": [
    "a = df.Branch.value_counts()\n",
    "a = a.sort_values(ascending= False)\n",
    "plt.figure(figsize=(15, 5))\n",
    "sns.barplot(x= [x.upper() for x in a.index], y= a.values)\n",
    "plt.show()"
   ]
  },
  {
   "cell_type": "markdown",
   "metadata": {},
   "source": [
    "## Future Ideas"
   ]
  },
  {
   "cell_type": "markdown",
   "metadata": {},
   "source": [
    "* Get number of students branch-wise from JAC and see percentage of students who joined from each stream.\n",
    "* Time series analysis to see the most active time for submitting responses.\n",
    "* And of course, anything else you can think of!"
   ]
  }
 ],
 "metadata": {
  "kernelspec": {
   "display_name": "Python 3",
   "language": "python",
   "name": "python3"
  },
  "language_info": {
   "codemirror_mode": {
    "name": "ipython",
    "version": 3
   },
   "file_extension": ".py",
   "mimetype": "text/x-python",
   "name": "python",
   "nbconvert_exporter": "python",
   "pygments_lexer": "ipython3",
   "version": "3.7.3"
  },
  "toc": {
   "base_numbering": 1,
   "nav_menu": {},
   "number_sections": true,
   "sideBar": true,
   "skip_h1_title": false,
   "title_cell": "Table of Contents",
   "title_sidebar": "Contents",
   "toc_cell": false,
   "toc_position": {},
   "toc_section_display": true,
   "toc_window_display": false
  },
  "varInspector": {
   "cols": {
    "lenName": 16,
    "lenType": 16,
    "lenVar": 40
   },
   "kernels_config": {
    "python": {
     "delete_cmd_postfix": "",
     "delete_cmd_prefix": "del ",
     "library": "var_list.py",
     "varRefreshCmd": "print(var_dic_list())"
    },
    "r": {
     "delete_cmd_postfix": ") ",
     "delete_cmd_prefix": "rm(",
     "library": "var_list.r",
     "varRefreshCmd": "cat(var_dic_list()) "
    }
   },
   "types_to_exclude": [
    "module",
    "function",
    "builtin_function_or_method",
    "instance",
    "_Feature"
   ],
   "window_display": false
  }
 },
 "nbformat": 4,
 "nbformat_minor": 2
}
